{
 "cells": [
  {
   "cell_type": "code",
   "execution_count": 2,
   "metadata": {},
   "outputs": [],
   "source": [
    "import pandas as pd\n",
    "from sqlalchemy import create_engine\n",
    "import psycopg2"
   ]
  },
  {
   "cell_type": "code",
   "execution_count": 3,
   "metadata": {},
   "outputs": [
    {
     "name": "stdout",
     "output_type": "stream",
     "text": [
      "Enter Database Name             : usaspendingdb\n",
      "Enter Postgres User Name        : postgres\n",
      "Enter Postges Password          : Fatih123\n",
      "Enter Table Name                : usaspending2015_1\n",
      "Creating Connection to Postgres\n",
      "\n",
      "Successfully Connected to Postgres\n",
      "\n",
      "Creating Data Frame\n",
      "\n",
      "Data Frame Successfully Created\n",
      "\n"
     ]
    }
   ],
   "source": [
    "pd.options.display.max_columns = 270\n",
    "\n",
    "db_name      = input('Enter Database Name             : ') #prompt user for existing db name\n",
    "user_name    = input('Enter Postgres User Name        : ')\n",
    "password     = input('Enter Postges Password          : ')\n",
    "table_name   = input('Enter Table Name                : ') #user naming the db table\n",
    "print('Creating Connection to Postgres\\n')\n",
    "engine = create_engine('postgresql+psycopg2://{}:{}@localhost/{}'.format(user_name,password,db_name)) #create connection to db\n",
    "print('Successfully Connected to Postgres\\n')\n",
    "print('Creating Data Frame\\n')\n",
    "df=pd.read_sql_table(table_name=table_name, con=engine)\n",
    "print('Data Frame Successfully Created\\n')\n",
    "print('Data Frame Name \"df\" ')"
   ]
  },
  {
   "cell_type": "code",
   "execution_count": null,
   "metadata": {},
   "outputs": [],
   "source": []
  }
 ],
 "metadata": {
  "kernelspec": {
   "display_name": "Python 3",
   "language": "python",
   "name": "python3"
  },
  "language_info": {
   "codemirror_mode": {
    "name": "ipython",
    "version": 3
   },
   "file_extension": ".py",
   "mimetype": "text/x-python",
   "name": "python",
   "nbconvert_exporter": "python",
   "pygments_lexer": "ipython3",
   "version": "3.7.3"
  }
 },
 "nbformat": 4,
 "nbformat_minor": 2
}
