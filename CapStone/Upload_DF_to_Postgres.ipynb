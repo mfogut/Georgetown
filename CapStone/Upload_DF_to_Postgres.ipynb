{
 "cells": [
  {
   "cell_type": "markdown",
   "metadata": {},
   "source": [
    "#### You have to Create Database from Postgresql. Do not create the Table , following function will create the Table but not DB.\n",
    "\n",
    "- When you run this script it will create table in Postgresql and populate all the data from your Data Frame to Postgresql.\n",
    "- User only need to run the script and input the asking information.\n",
    "- User need to give exact path of CSV file. (C:\\\\Users\\\\User\\\\Documents\\\\example.csv)\n",
    "- Default Postgresql Username : postgres.\n",
    "- Defaul Postgresql Password : postgres.\n",
    "- If you change your username and password please use them.\n"
   ]
  },
  {
   "cell_type": "code",
   "execution_count": 6,
   "metadata": {},
   "outputs": [],
   "source": [
    "#Import all the module that I need.\n",
    "from sqlalchemy import create_engine\n",
    "import psycopg2\n",
    "import pandas as pd"
   ]
  },
  {
   "cell_type": "code",
   "execution_count": null,
   "metadata": {},
   "outputs": [],
   "source": [
    "#Create Pandas DataFrame for open our csv file.\n",
    "path         = input('Enter the Path of CSV file : ')\n",
    "df = pd.read_csv(path, engine='python', encoding='utf8')\n",
    "\n",
    "#Define function to connect db , create table and populate csv file values to Postgres Database.\n",
    "table_name   = input('Enter Table Name to Create      : ') #user naming the db table\n",
    "def upload_DF_to_postgres(df_to_upload=df, table_name=table_name):\n",
    "    db_name      = input('Enter Database Name             : ') #prompt user for existing db name\n",
    "    user_name    = input('Enter Postgres User Name        : ')\n",
    "    password     = input('Enter Postges Password          : ')\n",
    "    engine = create_engine('postgresql+psycopg2://{}:{}@localhost/{}'.format(user_name,password,db_name)) #create connection to db\n",
    "    df_to_upload.to_sql(table_name, engine)\n",
    "    \n",
    "upload_DF_to_postgres()\n",
    "print('CSV file Successfully Uploaded to Postgres')"
   ]
  }
 ],
 "metadata": {
  "kernelspec": {
   "display_name": "Python 3",
   "language": "python",
   "name": "python3"
  },
  "language_info": {
   "codemirror_mode": {
    "name": "ipython",
    "version": 3
   },
   "file_extension": ".py",
   "mimetype": "text/x-python",
   "name": "python",
   "nbconvert_exporter": "python",
   "pygments_lexer": "ipython3",
   "version": "3.7.3"
  }
 },
 "nbformat": 4,
 "nbformat_minor": 2
}
